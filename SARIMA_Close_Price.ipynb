{
  "cells": [
    {
      "cell_type": "code",
      "execution_count": null,
      "metadata": {
        "id": "GB9Su7mvSAMU"
      },
      "outputs": [],
      "source": [
        "!pip install pmdarima"
      ]
    },
    {
      "cell_type": "code",
      "execution_count": 2,
      "metadata": {
        "id": "irEvQr5ylCj4"
      },
      "outputs": [],
      "source": [
        "import pandas as pd\n",
        "import numpy as np\n",
        "from statsmodels.tsa.statespace.sarimax import SARIMAX\n",
        "from sklearn.metrics import mean_squared_error\n",
        "\n",
        "data = pd.read_csv(\"NIFTY_50_Historical_Data.csv\")\n",
        "data.set_index('Date', inplace=True)"
      ]
    },
    {
      "cell_type": "code",
      "execution_count": 3,
      "metadata": {
        "id": "29O2xR2MlzQh"
      },
      "outputs": [],
      "source": [
        "cp_exog = pd.DataFrame(columns=['CP_lag1', 'CP_lag2', 'CP_lag3', 'CP_lag4', 'CP_lag5'])"
      ]
    },
    {
      "cell_type": "code",
      "execution_count": 4,
      "metadata": {
        "id": "_wMudjXHl48l"
      },
      "outputs": [],
      "source": [
        "for i in range(1, 6):\n",
        "    cp_exog[f'CP_lag{i}'] = data['Close'].shift(i).fillna(method='ffill')"
      ]
    },
    {
      "cell_type": "code",
      "execution_count": 5,
      "metadata": {
        "id": "RQ_2KReUl68Q"
      },
      "outputs": [],
      "source": [
        "data = pd.concat([data, cp_exog], axis=1)"
      ]
    },
    {
      "cell_type": "code",
      "execution_count": 6,
      "metadata": {
        "id": "vM4AIgufl81L"
      },
      "outputs": [],
      "source": [
        "data = data.fillna(0)"
      ]
    },
    {
      "cell_type": "code",
      "execution_count": 7,
      "metadata": {
        "id": "jW-nhdpal_Zf"
      },
      "outputs": [],
      "source": [
        "train_size = int(len(data) * 0.8)\n",
        "train = data.iloc[:train_size]\n",
        "test = data.iloc[train_size:]"
      ]
    },
    {
      "cell_type": "code",
      "execution_count": 8,
      "metadata": {
        "colab": {
          "base_uri": "https://localhost:8080/",
          "height": 452
        },
        "id": "6bysfCwqmaiB",
        "outputId": "560b5a48-11f0-40d4-912f-49cdb0d653d7"
      },
      "outputs": [
        {
          "data": {
            "image/png": "[encoded data removed]",
            "text/plain": [
              "<Figure size 640x480 with 1 Axes>"
            ]
          },
          "metadata": {},
          "output_type": "display_data"
        }
      ],
      "source": [
        "from statsmodels.graphics.tsaplots import plot_acf, plot_pacf\n",
        "import matplotlib.pyplot as plt\n",
        "\n",
        "plot_pacf(data['Returns']**2)\n",
        "plt.show()"
      ]
    },
    {
      "cell_type": "code",
      "execution_count": null,
      "metadata": {
        "id": "5vsVZksjl_8X"
      },
      "outputs": [],
      "source": [
        "from pmdarima import auto_arima\n",
        "\n",
        "model = auto_arima(train['Returns'], exogenous=train[['CP_lag1', 'CP_lag2', 'CP_lag3', 'CP_lag4', 'CP_lag5']],\n",
        "                   start_p=1, start_q=1,\n",
        "                   test='adf',\n",
        "                   max_p=4, max_q=3, m=9,\n",
        "                   start_P=1, seasonal=True,\n",
        "                   d=1, D=1, trend='ct',  # Adding trend component\n",
        "                   trace=True,\n",
        "                   error_action='ignore',\n",
        "                   suppress_warnings=True,\n",
        "                   stepwise=True)\n"
      ]
    },
    {
      "cell_type": "code",
      "execution_count": null,
      "metadata": {
        "id": "e3Kxpu8BcJfp"
      },
      "outputs": [],
      "source": [
        "model = SARIMAX(train['Returns'], exog=train[['CP_lag1', 'CP_lag2', 'CP_lag3', 'CP_lag4', 'CP_lag5']], order=(1,1,3), seasonal_order=(1, 1, 2, 9))\n",
        "results = model.fit()"
      ]
    },
    {
      "cell_type": "code",
      "execution_count": null,
      "metadata": {
        "id": "qQRktcyiR-oF"
      },
      "outputs": [],
      "source": [
        "test_pred = model.predict(n_periods=len(test),X=test[['CP_lag1', 'CP_lag2', 'CP_lag3', 'CP_lag4', 'CP_lag5']]);"
      ]
    },
    {
      "cell_type": "code",
      "execution_count": null,
      "metadata": {
        "id": "ps-E1cKWmEcN"
      },
      "outputs": [],
      "source": [
        "test_pred = results.predict(start=len(train), end=len(data)-1, exog=test[['CP_lag1', 'CP_lag2', 'CP_lag3', 'CP_lag4', 'CP_lag5']])\n",
        "mse = mean_squared_error(test['Returns'], test_pred)\n",
        "print(f\"Mean Squared Error: {mse:.2f}\")"
      ]
    },
    {
      "cell_type": "code",
      "execution_count": 17,
      "metadata": {
        "id": "qzfJqpoAYOMi"
      },
      "outputs": [],
      "source": [
        "df_predictions = pd.DataFrame(columns=['predictions_CP'])"
      ]
    },
    {
      "cell_type": "code",
      "execution_count": 28,
      "metadata": {
        "id": "0wyLVZI6YSbk"
      },
      "outputs": [],
      "source": [
        "df_predictions['predictions_CP'] = test_pred"
      ]
    },
    {
      "cell_type": "code",
      "execution_count": 30,
      "metadata": {
        "id": "XcL3yDmcYWRM"
      },
      "outputs": [],
      "source": [
        "df_predictions.to_csv('./output_new.csv')"
      ]
    }
  ],
  "metadata": {
    "colab": {
      "provenance": []
    },
    "kernelspec": {
      "display_name": "Python 3",
      "name": "python3"
    },
    "language_info": {
      "name": "python"
    }
  },
  "nbformat": 4,
  "nbformat_minor": 0
}
